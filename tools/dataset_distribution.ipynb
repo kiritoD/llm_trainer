{
 "cells": [
  {
   "cell_type": "code",
   "execution_count": 2,
   "metadata": {},
   "outputs": [
    {
     "name": "stderr",
     "output_type": "stream",
     "text": [
      "/root/miniconda3/envs/torch2/lib/python3.9/site-packages/tqdm/auto.py:21: TqdmWarning: IProgress not found. Please update jupyter and ipywidgets. See https://ipywidgets.readthedocs.io/en/stable/user_install.html\n",
      "  from .autonotebook import tqdm as notebook_tqdm\n"
     ]
    }
   ],
   "source": [
    "import datasets\n",
    "import os\n",
    "def get_distribution(dataset: datasets.Dataset, max_length = 1024):\n",
    "    import matplotlib.pyplot as plt\n",
    "    import seaborn as sns\n",
    "\n",
    "    dataset_name = dataset.builder_name\n",
    "    output_dir = f\"./dataset_distributions/{dataset_name}\"\n",
    "    os.makedirs(output_dir, exist_ok=True)\n",
    "    features = dataset.features\n",
    "    dataset_sample_legnth = {_: [] for _ in features}\n",
    "    length_max = max_length\n",
    "    data = []\n",
    "    counter = {_: 0 for _ in features}\n",
    "    counter_avaiable = {_: 0 for _ in features}\n",
    "    for sampler in dataset:\n",
    "        for feature in features:\n",
    "            length = len(str(sampler[feature]).split(' '))\n",
    "            counter[feature] += 1\n",
    "            if length < length_max:\n",
    "                dataset_sample_legnth[feature].append(length)\n",
    "                counter_avaiable[feature] += 1\n",
    "    print(f\"total: {counter};\\navaiable: {counter_avaiable}\")\n",
    "    for feature in features:\n",
    "        sns.distplot(dataset_sample_legnth[feature], color=\"m\", kde=True)\n",
    "        plt.title(feature)\n",
    "        plt.savefig(f\"{output_dir}/dist_{feature}.png\")\n",
    "        plt.show()\n",
    "        plt.close()\n"
   ]
  },
  {
   "cell_type": "code",
   "execution_count": 5,
   "metadata": {},
   "outputs": [
    {
     "ename": "KeyError",
     "evalue": "'valid'",
     "output_type": "error",
     "traceback": [
      "\u001b[0;31m---------------------------------------------------------------------------\u001b[0m",
      "\u001b[0;31mKeyError\u001b[0m                                  Traceback (most recent call last)",
      "Cell \u001b[0;32mIn[5], line 7\u001b[0m\n\u001b[1;32m      1\u001b[0m \u001b[39m# dataset = datasets.load_dataset(\"samsum\")\u001b[39;00m\n\u001b[1;32m      2\u001b[0m \u001b[39m# dataset = datasets.load_dataset(\"knkarthick/dialogsum\")\u001b[39;00m\n\u001b[1;32m      3\u001b[0m \u001b[39m# dataset = datasets.load_dataset(\"cnn_dailymail\", '3.0.0')\u001b[39;00m\n\u001b[1;32m      4\u001b[0m \u001b[39m# dataset = datasets.load_dataset(\"gsm8k\", 'main')\u001b[39;00m\n\u001b[1;32m      5\u001b[0m \u001b[39m# dataset = datasets.load_dataset(\"super_glue\", 'boolq')\u001b[39;00m\n\u001b[1;32m      6\u001b[0m dataset \u001b[39m=\u001b[39m datasets\u001b[39m.\u001b[39mload_dataset(\u001b[39m\"\u001b[39m\u001b[39mxsum\u001b[39m\u001b[39m\"\u001b[39m)\n\u001b[0;32m----> 7\u001b[0m get_distribution(dataset[\u001b[39m'\u001b[39;49m\u001b[39mvalid\u001b[39;49m\u001b[39m'\u001b[39;49m], max_length\u001b[39m=\u001b[39m\u001b[39m1024\u001b[39m)\n",
      "File \u001b[0;32m~/miniconda3/envs/torch2/lib/python3.9/site-packages/datasets/dataset_dict.py:59\u001b[0m, in \u001b[0;36mDatasetDict.__getitem__\u001b[0;34m(self, k)\u001b[0m\n\u001b[1;32m     57\u001b[0m \u001b[39mdef\u001b[39;00m \u001b[39m__getitem__\u001b[39m(\u001b[39mself\u001b[39m, k) \u001b[39m-\u001b[39m\u001b[39m>\u001b[39m Dataset:\n\u001b[1;32m     58\u001b[0m     \u001b[39mif\u001b[39;00m \u001b[39misinstance\u001b[39m(k, (\u001b[39mstr\u001b[39m, NamedSplit)) \u001b[39mor\u001b[39;00m \u001b[39mlen\u001b[39m(\u001b[39mself\u001b[39m) \u001b[39m==\u001b[39m \u001b[39m0\u001b[39m:\n\u001b[0;32m---> 59\u001b[0m         \u001b[39mreturn\u001b[39;00m \u001b[39msuper\u001b[39;49m()\u001b[39m.\u001b[39;49m\u001b[39m__getitem__\u001b[39;49m(k)\n\u001b[1;32m     60\u001b[0m     \u001b[39melse\u001b[39;00m:\n\u001b[1;32m     61\u001b[0m         available_suggested_splits \u001b[39m=\u001b[39m [\n\u001b[1;32m     62\u001b[0m             split \u001b[39mfor\u001b[39;00m split \u001b[39min\u001b[39;00m (Split\u001b[39m.\u001b[39mTRAIN, Split\u001b[39m.\u001b[39mTEST, Split\u001b[39m.\u001b[39mVALIDATION) \u001b[39mif\u001b[39;00m split \u001b[39min\u001b[39;00m \u001b[39mself\u001b[39m\n\u001b[1;32m     63\u001b[0m         ]\n",
      "\u001b[0;31mKeyError\u001b[0m: 'valid'"
     ]
    }
   ],
   "source": [
    "# dataset = datasets.load_dataset(\"samsum\")\n",
    "# dataset = datasets.load_dataset(\"knkarthick/dialogsum\")\n",
    "# dataset = datasets.load_dataset(\"cnn_dailymail\", '3.0.0')\n",
    "# dataset = datasets.load_dataset(\"gsm8k\", 'main')\n",
    "# dataset = datasets.load_dataset(\"super_glue\", 'boolq')\n",
    "dataset = datasets.load_dataset(\"xsum\")\n",
    "get_distribution(dataset['valid'], max_length=1024)\n"
   ]
  },
  {
   "cell_type": "code",
   "execution_count": 10,
   "metadata": {},
   "outputs": [],
   "source": [
    "import glob \n",
    "import os\n",
    "path = \"/hpc2hdd/home/fwang380/dongjunwei/llm_trainer/model_output/**/pytorch_model.bin\"\n",
    "model_paths = [_ for _ in glob.glob(path, recursive=True)]\n",
    "for path_ in model_paths:\n",
    "    os.remove(path_)"
   ]
  }
 ],
 "metadata": {
  "kernelspec": {
   "display_name": "Python 3.9.2 64-bit",
   "language": "python",
   "name": "python3"
  },
  "language_info": {
   "codemirror_mode": {
    "name": "ipython",
    "version": 3
   },
   "file_extension": ".py",
   "mimetype": "text/x-python",
   "name": "python",
   "nbconvert_exporter": "python",
   "pygments_lexer": "ipython3",
   "version": "3.9.16"
  },
  "orig_nbformat": 4,
  "vscode": {
   "interpreter": {
    "hash": "31f2aee4e71d21fbe5cf8b01ff0e069b9275f58929596ceb00d14d90e3e16cd6"
   }
  }
 },
 "nbformat": 4,
 "nbformat_minor": 2
}
