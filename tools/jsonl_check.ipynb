{
 "cells": [
  {
   "cell_type": "code",
   "execution_count": 9,
   "metadata": {},
   "outputs": [
    {
     "data": {
      "text/plain": [
       "{'question': \"当前电商领域直播话术'''啊你看你还有没有别的问题红姐如果有的话你就讲没有的话咱就入手来姐姐去吧小黄车七号链接啊直接就可以拍拍完了以后告诉我一个身高啊拍完以后告诉我一个身高我给你送凳子啊给你优惠啊优惠的话是不能因为咱们家是有保价的就是就是咱们之前卖过别的学员的价格不能低于那个价格去卖如果低于那个那个价格去卖的话咱们是要返十倍的中间错的这个价格中间就是就是错的这个价格我们要十倍赔赔偿给他们然后你买的话以后也不会也不会说价格比这低只会往上高准备往上调因为这是咱新店开业的一个活动然后这款的话呢就剩一台了卖完之后就没了对卖完卖完这个我们就没这个钱了姐姐说实话这个价格已经是地板价而且现在直播间人少我这凳子我都平时不送你对然后你你今天'''，是否符合站外引流:\",\n",
       " 'ground truth answer': '否eos',\n",
       " 'output': \"[0]: 当前电商领域直播话术'''啊你看你还有没有别的问题红姐如果有的话你就讲没有的话咱就入手来姐姐去吧小黄车七号链接啊直接就可以拍拍完了以后告诉我一个身高啊拍完以后告诉我一个身高我给你送凳子啊给你优惠啊优惠的话是不能因为咱们家是有保价的就是就是咱们之前卖过别的学员的价格不能低于那个价格去卖如果低于那个那个价格去卖的话咱们是要返十倍的中间错的这个价格中间就是就是错的这个价格我们要十倍赔赔偿给他们然后你买的话以后也不会也不会说价格比这低只会往上高准备往上调因为这是咱新店开业的一个活动然后这款的话呢就剩一台了卖完之后就没了对卖完卖完这个我们就没这个钱了姐姐说实话这个价格已经是地板价而且现在直播间人少我这凳子我都平时不送你对然后你你今天'''，是否符合站外引流:\\n<s>否eos\",\n",
       " 'probs': [[9.459257125854492e-05, 1.0]]}"
      ]
     },
     "execution_count": 9,
     "metadata": {},
     "output_type": "execute_result"
    }
   ],
   "source": [
    "from glob import glob\n",
    "import json\n",
    "path = \"/mnt/bn/ecom-ccr-dev/mlx/users/dongjunwei/EasyGuard/examples/peft_llm/model_output/external_platform_c2_model_lr_8e-4/LORA/epoch_4/result_remote_*.jsonl\"\n",
    "data = []\n",
    "for file_ in glob(path):\n",
    "    with open(file_, 'r') as f:\n",
    "        jsonl_data = []\n",
    "        for line in f:\n",
    "            jsonl_data.append(json.loads(line))\n",
    "    data.append(jsonl_data)\n",
    "\n",
    "path_2 = \"/mnt/bn/ecom-ccr-dev/mlx/users/dongjunwei/EasyGuard/examples/fashion_bloom/model_outputs/BELLE_7B_2M_peft/remote-lr8e-4-bs32-ep5-peft_lora_linear_loss_mask_causual_loss_False_lambda_0.1/lora/global_step1/results_remote_exernal_platform_01_epoch_1.jsonl\"\n",
    "data_cruise = []\n",
    "for file_ in glob(path_2):\n",
    "    with open(file_, 'r') as f:\n",
    "        for line in f:\n",
    "            data_cruise.append(json.loads(line))\n",
    "data_cruise[0]\n"
   ]
  },
  {
   "cell_type": "code",
   "execution_count": 10,
   "metadata": {},
   "outputs": [
    {
     "name": "stdout",
     "output_type": "stream",
     "text": [
      "240 0.9561752988047809\n",
      "404 0.37267080745341613\n"
     ]
    }
   ],
   "source": [
    "from glob import glob\n",
    "import json\n",
    "path = \"/mnt/bn/ecom-ccr-dev/mlx/users/dongjunwei/EasyGuard/examples/peft_llm/model_output/external_platform_c2_model_peft_lr_8e-4/LORA/epoch_5/result_remote_prob_*.jsonl\"\n",
    "data = []\n",
    "for file_ in glob(path):\n",
    "    with open(file_, 'r') as f:\n",
    "        jsonl_data = []\n",
    "        for line in f:\n",
    "            jsonl_data.append(json.loads(line))\n",
    "    data.append(jsonl_data)\n",
    "questions_all = []\n",
    "for data_ in data:\n",
    "    questions_all += list(map(lambda x:x['question'], data_))\n",
    "data_all = []\n",
    "for data_ in data:\n",
    "    data_all += data_\n",
    "data_truth = []\n",
    "data_false = []\n",
    "for data_ in data_all:\n",
    "    if \"是\" in data_[\"ground_truth\"]:\n",
    "        data_truth.append(data_)\n",
    "    else:\n",
    "        data_false.append(data_)\n",
    "# merge\n",
    "total_length_truth = len(data_truth)\n",
    "counter_tt = 0\n",
    "for data_line in data_truth:\n",
    "    if '是' in data_line[\"answer\"]:\n",
    "        counter_tt += 1\n",
    "counter_tf = 0\n",
    "for data_line in data_false:\n",
    "    if '是' in data_line[\"answer\"]:\n",
    "        counter_tf += 1\n",
    "print(counter_tt, counter_tt / total_length_truth)\n",
    "print(counter_tf, counter_tt / (counter_tt + counter_tf))"
   ]
  },
  {
   "cell_type": "code",
   "execution_count": 6,
   "metadata": {},
   "outputs": [
    {
     "data": {
      "text/plain": [
       "'s>否eos'"
      ]
     },
     "execution_count": 6,
     "metadata": {},
     "output_type": "execute_result"
    }
   ],
   "source": [
    "data_cruise[0]['output'][-6:]"
   ]
  },
  {
   "cell_type": "code",
   "execution_count": 10,
   "metadata": {},
   "outputs": [],
   "source": [
    "questions_all = []\n",
    "for data_ in data:\n",
    "    questions_all += list(map(lambda x:x['question'], data_))\n",
    "data_all = []\n",
    "for data_ in data:\n",
    "    data_all += data_"
   ]
  },
  {
   "cell_type": "code",
   "execution_count": 11,
   "metadata": {},
   "outputs": [
    {
     "data": {
      "text/plain": [
       "10000"
      ]
     },
     "execution_count": 11,
     "metadata": {},
     "output_type": "execute_result"
    }
   ],
   "source": [
    "len(data_all)\n"
   ]
  },
  {
   "cell_type": "code",
   "execution_count": 12,
   "metadata": {},
   "outputs": [
    {
     "name": "stdout",
     "output_type": "stream",
     "text": [
      "{'question': \"当前电商领域直播话术'''来来一个来一个小精品给老师们看一下看看这是一个剥皮石上面有一只小乌龟精美的小乌龟看看有没老师喜欢这方米有点高啊老师们这是我收藏的一个小精品看看有没有老师喜欢这方得三百米小乌龟一方这三百八的以前我报过三百吧他完好无损天然浮雕梅老师出米我就先过了好象形石我再继续找象形石还有鞋子嗯'''，是否符合站外引流:\", 'ground_truth': '否eos', 'answer': '否eos'}\n"
     ]
    }
   ],
   "source": [
    "\n",
    "data_truth = []\n",
    "data_false = []\n",
    "for data_ in data_all:\n",
    "    if \"是\" in data_[\"ground_truth\"]:\n",
    "        data_truth.append(data_)\n",
    "    else:\n",
    "        data_false.append(data_)\n",
    "data_truth[0]\n",
    "print(data_false[1])"
   ]
  },
  {
   "cell_type": "code",
   "execution_count": 6,
   "metadata": {},
   "outputs": [
    {
     "name": "stdout",
     "output_type": "stream",
     "text": [
      "238 0.9482071713147411\n",
      "254 0.483739837398374\n"
     ]
    }
   ],
   "source": [
    "# merge\n",
    "total_length_truth = len(data_truth)\n",
    "counter_tt = 0\n",
    "for data_line in data_truth:\n",
    "    if '是' in data_line[\"answer\"]:\n",
    "        counter_tt += 1\n",
    "counter_tf = 0\n",
    "for data_line in data_false:\n",
    "    if '是' in data_line[\"answer\"]:\n",
    "        counter_tf += 1\n",
    "print(counter_tt, counter_tt / total_length_truth)\n",
    "print(counter_tf, counter_tt / (counter_tt + counter_tf))"
   ]
  },
  {
   "cell_type": "code",
   "execution_count": 13,
   "metadata": {},
   "outputs": [
    {
     "name": "stdout",
     "output_type": "stream",
     "text": [
      "238 0.9482071713147411\n",
      "254 0.483739837398374\n"
     ]
    }
   ],
   "source": [
    "# unmerge\n",
    "total_length_truth = len(data_truth)\n",
    "counter_tt = 0\n",
    "for data_line in data_truth:\n",
    "    if '是' in data_line[\"answer\"]:\n",
    "        counter_tt += 1\n",
    "counter_tf = 0\n",
    "for data_line in data_false:\n",
    "    if '是' in data_line[\"answer\"]:\n",
    "        counter_tf += 1\n",
    "print(counter_tt, counter_tt / total_length_truth)\n",
    "print(counter_tf, counter_tt / (counter_tt + counter_tf))"
   ]
  },
  {
   "cell_type": "code",
   "execution_count": 12,
   "metadata": {},
   "outputs": [
    {
     "name": "stdout",
     "output_type": "stream",
     "text": [
      "{'question': \"当前电商领域直播话术'''来来一个来一个小精品给老师们看一下看看这是一个剥皮石上面有一只小乌龟精美的小乌龟看看有没老师喜欢这方米有点高啊老师们这是我收藏的一个小精品看看有没有老师喜欢这方得三百米小乌龟一方这三百八的以前我报过三百吧他完好无损天然浮雕梅老师出米我就先过了好象形石我再继续找象形石还有鞋子嗯'''，是否符合站外引流:\", 'ground truth answer': '否eos', 'output': \"[1]: 当前电商领域直播话术'''来来一个来一个小精品给老师们看一下看看这是一个剥皮石上面有一只小乌龟精美的小乌龟看看有没老师喜欢这方米有点高啊老师们这是我收藏的一个小精品看看有没有老师喜欢这方得三百米小乌龟一方这三百八的以前我报过三百吧他完好无损天然浮雕梅老师出米我就先过了好象形石我再继续找象形石还有鞋子嗯'''，是否符合站外引流:\\n<s>否eos\", 'probs': [[0.017852783203125, 0.98193359375]]}\n"
     ]
    }
   ],
   "source": [
    "data_truth = []\n",
    "data_false = []\n",
    "for data_ in data_cruise:\n",
    "    if \"是\" in data_[\"ground truth answer\"]:\n",
    "        data_truth.append(data_)\n",
    "    else:\n",
    "        data_false.append(data_)\n",
    "data_truth[0]\n",
    "print(data_false[1])"
   ]
  },
  {
   "cell_type": "code",
   "execution_count": 13,
   "metadata": {},
   "outputs": [
    {
     "name": "stdout",
     "output_type": "stream",
     "text": [
      "0.9760956175298805\n",
      "0.6140350877192983\n"
     ]
    }
   ],
   "source": [
    "total_length_truth = len(data_truth)\n",
    "counter_tt = 0\n",
    "for data_line in data_truth:\n",
    "    if '是' in data_line[\"output\"][-6:]:\n",
    "        counter_tt += 1\n",
    "counter_tf = 0\n",
    "for data_line in data_false:\n",
    "    if '是' in data_line[\"output\"][-6:]:\n",
    "        counter_tf += 1\n",
    "print(counter_tt / total_length_truth)\n",
    "print(counter_tt / (counter_tt + counter_tf))"
   ]
  },
  {
   "cell_type": "code",
   "execution_count": 14,
   "metadata": {},
   "outputs": [
    {
     "name": "stdout",
     "output_type": "stream",
     "text": [
      "1689326868\n",
      "x_1 = ba33de63cf15540e977747914139583b2504e57fddac5beee646574a17a1d5c4\n"
     ]
    },
    {
     "data": {
      "text/plain": [
       "True"
      ]
     },
     "execution_count": 14,
     "metadata": {},
     "output_type": "execute_result"
    }
   ],
   "source": [
    "import hashlib\n",
    "import time\n",
    "print(int(time.time()))\n",
    "timestamp = 1689326681447\n",
    "content = \"你好\"\n",
    "str_hash = f\"{timestamp}:{content}:\"\n",
    "x = hashlib.sha256()\n",
    "\n",
    "x.update(str_hash.encode())\n",
    "print(\"x_1 = \" + x.hexdigest())\n",
    "x_ = \"ba33de63cf15540e977747914139583b2504e57fddac5beee646574a17a1d5c4\"\n",
    "x_ == x.hexdigest()"
   ]
  }
 ],
 "metadata": {
  "kernelspec": {
   "display_name": "py39",
   "language": "python",
   "name": "python3"
  },
  "language_info": {
   "codemirror_mode": {
    "name": "ipython",
    "version": 3
   },
   "file_extension": ".py",
   "mimetype": "text/x-python",
   "name": "python",
   "nbconvert_exporter": "python",
   "pygments_lexer": "ipython3",
   "version": "3.9.16"
  },
  "orig_nbformat": 4
 },
 "nbformat": 4,
 "nbformat_minor": 2
}
